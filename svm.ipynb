{
  "cells": [
    {
      "cell_type": "code",
      "execution_count": 1,
      "id": "5a8233b4",
      "metadata": {
        "id": "5a8233b4"
      },
      "outputs": [],
      "source": [
        "import numpy as np\n",
        "import pandas as pd\n",
        "import matplotlib.pyplot as plt"
      ]
    },
    {
      "cell_type": "code",
      "execution_count": 3,
      "id": "749850b9",
      "metadata": {
        "id": "749850b9",
        "outputId": "4b03e09f-ed1a-457a-fd7b-6e6acc02c789",
        "colab": {
          "base_uri": "https://localhost:8080/",
          "height": 502
        }
      },
      "outputs": [
        {
          "output_type": "execute_result",
          "data": {
            "text/html": [
              "\n",
              "  <div id=\"df-81ecb605-6d32-47e4-aa8e-3ce3fbabb34f\">\n",
              "    <div class=\"colab-df-container\">\n",
              "      <div>\n",
              "<style scoped>\n",
              "    .dataframe tbody tr th:only-of-type {\n",
              "        vertical-align: middle;\n",
              "    }\n",
              "\n",
              "    .dataframe tbody tr th {\n",
              "        vertical-align: top;\n",
              "    }\n",
              "\n",
              "    .dataframe thead th {\n",
              "        text-align: right;\n",
              "    }\n",
              "</style>\n",
              "<table border=\"1\" class=\"dataframe\">\n",
              "  <thead>\n",
              "    <tr style=\"text-align: right;\">\n",
              "      <th></th>\n",
              "      <th>Num Cases</th>\n",
              "      <th>Date Announced</th>\n",
              "      <th>Age Bracket</th>\n",
              "      <th>Gender</th>\n",
              "      <th>Detected City</th>\n",
              "      <th>Detected District</th>\n",
              "      <th>Detected State</th>\n",
              "      <th>Current Status</th>\n",
              "      <th>Day</th>\n",
              "      <th>Month</th>\n",
              "      <th>Year</th>\n",
              "    </tr>\n",
              "  </thead>\n",
              "  <tbody>\n",
              "    <tr>\n",
              "      <th>0</th>\n",
              "      <td>1.0</td>\n",
              "      <td>30/01/2020</td>\n",
              "      <td>20</td>\n",
              "      <td>F</td>\n",
              "      <td>Thrissur</td>\n",
              "      <td>Thrissur</td>\n",
              "      <td>Kerala</td>\n",
              "      <td>Recovered</td>\n",
              "      <td>30.0</td>\n",
              "      <td>1.0</td>\n",
              "      <td>2020.0</td>\n",
              "    </tr>\n",
              "    <tr>\n",
              "      <th>1</th>\n",
              "      <td>1.0</td>\n",
              "      <td>02/02/2020</td>\n",
              "      <td>NaN</td>\n",
              "      <td>NaN</td>\n",
              "      <td>Alappuzha</td>\n",
              "      <td>Alappuzha</td>\n",
              "      <td>Kerala</td>\n",
              "      <td>Recovered</td>\n",
              "      <td>2.0</td>\n",
              "      <td>2.0</td>\n",
              "      <td>2020.0</td>\n",
              "    </tr>\n",
              "    <tr>\n",
              "      <th>2</th>\n",
              "      <td>1.0</td>\n",
              "      <td>03/02/2020</td>\n",
              "      <td>NaN</td>\n",
              "      <td>NaN</td>\n",
              "      <td>Kasaragod</td>\n",
              "      <td>Kasaragod</td>\n",
              "      <td>Kerala</td>\n",
              "      <td>Recovered</td>\n",
              "      <td>3.0</td>\n",
              "      <td>2.0</td>\n",
              "      <td>2020.0</td>\n",
              "    </tr>\n",
              "    <tr>\n",
              "      <th>3</th>\n",
              "      <td>1.0</td>\n",
              "      <td>02/03/2020</td>\n",
              "      <td>45</td>\n",
              "      <td>M</td>\n",
              "      <td>East Delhi (Mayur Vihar)</td>\n",
              "      <td>East Delhi</td>\n",
              "      <td>Delhi</td>\n",
              "      <td>Recovered</td>\n",
              "      <td>2.0</td>\n",
              "      <td>3.0</td>\n",
              "      <td>2020.0</td>\n",
              "    </tr>\n",
              "    <tr>\n",
              "      <th>4</th>\n",
              "      <td>1.0</td>\n",
              "      <td>02/03/2020</td>\n",
              "      <td>24</td>\n",
              "      <td>M</td>\n",
              "      <td>Hyderabad</td>\n",
              "      <td>Hyderabad</td>\n",
              "      <td>Telangana</td>\n",
              "      <td>Recovered</td>\n",
              "      <td>2.0</td>\n",
              "      <td>3.0</td>\n",
              "      <td>2020.0</td>\n",
              "    </tr>\n",
              "    <tr>\n",
              "      <th>...</th>\n",
              "      <td>...</td>\n",
              "      <td>...</td>\n",
              "      <td>...</td>\n",
              "      <td>...</td>\n",
              "      <td>...</td>\n",
              "      <td>...</td>\n",
              "      <td>...</td>\n",
              "      <td>...</td>\n",
              "      <td>...</td>\n",
              "      <td>...</td>\n",
              "      <td>...</td>\n",
              "    </tr>\n",
              "    <tr>\n",
              "      <th>35657</th>\n",
              "      <td>1.0</td>\n",
              "      <td>07/05/2020</td>\n",
              "      <td>NaN</td>\n",
              "      <td>NaN</td>\n",
              "      <td>NaN</td>\n",
              "      <td>Tiruvannamalai</td>\n",
              "      <td>Tamil Nadu</td>\n",
              "      <td>Hospitalized</td>\n",
              "      <td>7.0</td>\n",
              "      <td>5.0</td>\n",
              "      <td>2020.0</td>\n",
              "    </tr>\n",
              "    <tr>\n",
              "      <th>35658</th>\n",
              "      <td>1.0</td>\n",
              "      <td>07/05/2020</td>\n",
              "      <td>NaN</td>\n",
              "      <td>NaN</td>\n",
              "      <td>NaN</td>\n",
              "      <td>Tiruvannamalai</td>\n",
              "      <td>Tamil Nadu</td>\n",
              "      <td>Hospitalized</td>\n",
              "      <td>7.0</td>\n",
              "      <td>5.0</td>\n",
              "      <td>2020.0</td>\n",
              "    </tr>\n",
              "    <tr>\n",
              "      <th>35659</th>\n",
              "      <td>1.0</td>\n",
              "      <td>07/05/2020</td>\n",
              "      <td>NaN</td>\n",
              "      <td>NaN</td>\n",
              "      <td>NaN</td>\n",
              "      <td>Tiruvannamalai</td>\n",
              "      <td>Tamil Nadu</td>\n",
              "      <td>Hospitalized</td>\n",
              "      <td>7.0</td>\n",
              "      <td>5.0</td>\n",
              "      <td>2020.0</td>\n",
              "    </tr>\n",
              "    <tr>\n",
              "      <th>35660</th>\n",
              "      <td>1.0</td>\n",
              "      <td>07/05/2020</td>\n",
              "      <td>NaN</td>\n",
              "      <td>NaN</td>\n",
              "      <td>NaN</td>\n",
              "      <td>Tiruvannamalai</td>\n",
              "      <td>Tamil Nadu</td>\n",
              "      <td>Hospitalized</td>\n",
              "      <td>7.0</td>\n",
              "      <td>5.0</td>\n",
              "      <td>2020.0</td>\n",
              "    </tr>\n",
              "    <tr>\n",
              "      <th>35661</th>\n",
              "      <td>1.0</td>\n",
              "      <td>07/05/2020</td>\n",
              "      <td>NaN</td>\n",
              "      <td>NaN</td>\n",
              "      <td>NaN</td>\n",
              "      <td>Tiruvannamalai</td>\n",
              "      <td>Tamil Nadu</td>\n",
              "      <td>H</td>\n",
              "      <td>NaN</td>\n",
              "      <td>NaN</td>\n",
              "      <td>NaN</td>\n",
              "    </tr>\n",
              "  </tbody>\n",
              "</table>\n",
              "<p>35662 rows × 11 columns</p>\n",
              "</div>\n",
              "      <button class=\"colab-df-convert\" onclick=\"convertToInteractive('df-81ecb605-6d32-47e4-aa8e-3ce3fbabb34f')\"\n",
              "              title=\"Convert this dataframe to an interactive table.\"\n",
              "              style=\"display:none;\">\n",
              "        \n",
              "  <svg xmlns=\"http://www.w3.org/2000/svg\" height=\"24px\"viewBox=\"0 0 24 24\"\n",
              "       width=\"24px\">\n",
              "    <path d=\"M0 0h24v24H0V0z\" fill=\"none\"/>\n",
              "    <path d=\"M18.56 5.44l.94 2.06.94-2.06 2.06-.94-2.06-.94-.94-2.06-.94 2.06-2.06.94zm-11 1L8.5 8.5l.94-2.06 2.06-.94-2.06-.94L8.5 2.5l-.94 2.06-2.06.94zm10 10l.94 2.06.94-2.06 2.06-.94-2.06-.94-.94-2.06-.94 2.06-2.06.94z\"/><path d=\"M17.41 7.96l-1.37-1.37c-.4-.4-.92-.59-1.43-.59-.52 0-1.04.2-1.43.59L10.3 9.45l-7.72 7.72c-.78.78-.78 2.05 0 2.83L4 21.41c.39.39.9.59 1.41.59.51 0 1.02-.2 1.41-.59l7.78-7.78 2.81-2.81c.8-.78.8-2.07 0-2.86zM5.41 20L4 18.59l7.72-7.72 1.47 1.35L5.41 20z\"/>\n",
              "  </svg>\n",
              "      </button>\n",
              "      \n",
              "  <style>\n",
              "    .colab-df-container {\n",
              "      display:flex;\n",
              "      flex-wrap:wrap;\n",
              "      gap: 12px;\n",
              "    }\n",
              "\n",
              "    .colab-df-convert {\n",
              "      background-color: #E8F0FE;\n",
              "      border: none;\n",
              "      border-radius: 50%;\n",
              "      cursor: pointer;\n",
              "      display: none;\n",
              "      fill: #1967D2;\n",
              "      height: 32px;\n",
              "      padding: 0 0 0 0;\n",
              "      width: 32px;\n",
              "    }\n",
              "\n",
              "    .colab-df-convert:hover {\n",
              "      background-color: #E2EBFA;\n",
              "      box-shadow: 0px 1px 2px rgba(60, 64, 67, 0.3), 0px 1px 3px 1px rgba(60, 64, 67, 0.15);\n",
              "      fill: #174EA6;\n",
              "    }\n",
              "\n",
              "    [theme=dark] .colab-df-convert {\n",
              "      background-color: #3B4455;\n",
              "      fill: #D2E3FC;\n",
              "    }\n",
              "\n",
              "    [theme=dark] .colab-df-convert:hover {\n",
              "      background-color: #434B5C;\n",
              "      box-shadow: 0px 1px 3px 1px rgba(0, 0, 0, 0.15);\n",
              "      filter: drop-shadow(0px 1px 2px rgba(0, 0, 0, 0.3));\n",
              "      fill: #FFFFFF;\n",
              "    }\n",
              "  </style>\n",
              "\n",
              "      <script>\n",
              "        const buttonEl =\n",
              "          document.querySelector('#df-81ecb605-6d32-47e4-aa8e-3ce3fbabb34f button.colab-df-convert');\n",
              "        buttonEl.style.display =\n",
              "          google.colab.kernel.accessAllowed ? 'block' : 'none';\n",
              "\n",
              "        async function convertToInteractive(key) {\n",
              "          const element = document.querySelector('#df-81ecb605-6d32-47e4-aa8e-3ce3fbabb34f');\n",
              "          const dataTable =\n",
              "            await google.colab.kernel.invokeFunction('convertToInteractive',\n",
              "                                                     [key], {});\n",
              "          if (!dataTable) return;\n",
              "\n",
              "          const docLinkHtml = 'Like what you see? Visit the ' +\n",
              "            '<a target=\"_blank\" href=https://colab.research.google.com/notebooks/data_table.ipynb>data table notebook</a>'\n",
              "            + ' to learn more about interactive tables.';\n",
              "          element.innerHTML = '';\n",
              "          dataTable['output_type'] = 'display_data';\n",
              "          await google.colab.output.renderOutput(dataTable, element);\n",
              "          const docLink = document.createElement('div');\n",
              "          docLink.innerHTML = docLinkHtml;\n",
              "          element.appendChild(docLink);\n",
              "        }\n",
              "      </script>\n",
              "    </div>\n",
              "  </div>\n",
              "  "
            ],
            "text/plain": [
              "       Num Cases Date Announced Age Bracket  ...   Day Month    Year\n",
              "0            1.0     30/01/2020          20  ...  30.0   1.0  2020.0\n",
              "1            1.0     02/02/2020         NaN  ...   2.0   2.0  2020.0\n",
              "2            1.0     03/02/2020         NaN  ...   3.0   2.0  2020.0\n",
              "3            1.0     02/03/2020          45  ...   2.0   3.0  2020.0\n",
              "4            1.0     02/03/2020          24  ...   2.0   3.0  2020.0\n",
              "...          ...            ...         ...  ...   ...   ...     ...\n",
              "35657        1.0     07/05/2020         NaN  ...   7.0   5.0  2020.0\n",
              "35658        1.0     07/05/2020         NaN  ...   7.0   5.0  2020.0\n",
              "35659        1.0     07/05/2020         NaN  ...   7.0   5.0  2020.0\n",
              "35660        1.0     07/05/2020         NaN  ...   7.0   5.0  2020.0\n",
              "35661        1.0     07/05/2020         NaN  ...   NaN   NaN     NaN\n",
              "\n",
              "[35662 rows x 11 columns]"
            ]
          },
          "metadata": {},
          "execution_count": 3
        }
      ],
      "source": [
        "data = pd.read_csv('covid19india.csv')\n",
        "data"
      ]
    },
    {
      "cell_type": "code",
      "execution_count": 4,
      "id": "a0b90621",
      "metadata": {
        "id": "a0b90621",
        "outputId": "cb2221a5-a156-4112-8ce5-6da5c63677a5",
        "colab": {
          "base_uri": "https://localhost:8080/"
        }
      },
      "outputs": [
        {
          "output_type": "execute_result",
          "data": {
            "text/plain": [
              "Month  Day \n",
              "3.0    4.0        5.0\n",
              "       5.0        1.0\n",
              "       7.0        2.0\n",
              "       9.0        4.0\n",
              "       10.0       4.0\n",
              "                ...  \n",
              "5.0    3.0     2952.0\n",
              "       4.0     3656.0\n",
              "       5.0     2971.0\n",
              "       6.0     3602.0\n",
              "       7.0      613.0\n",
              "Name: Num Cases, Length: 63, dtype: float64"
            ]
          },
          "metadata": {},
          "execution_count": 4
        }
      ],
      "source": [
        "day = data[data['Current Status']=='Hospitalized'].groupby(['Month', 'Day'])['Num Cases'].sum()\n",
        "day"
      ]
    },
    {
      "cell_type": "code",
      "execution_count": 5,
      "id": "32318739",
      "metadata": {
        "id": "32318739",
        "outputId": "9feddaec-ffc9-4e5f-9e1a-b071a3fb1777",
        "colab": {
          "base_uri": "https://localhost:8080/"
        }
      },
      "outputs": [
        {
          "output_type": "execute_result",
          "data": {
            "text/plain": [
              "array([ 0,  1,  2,  3,  4,  5,  6,  7,  8,  9, 10, 11, 12, 13, 14, 15, 16,\n",
              "       17, 18, 19, 20, 21, 22, 23, 24, 25, 26, 27, 28, 29, 30, 31, 32, 33,\n",
              "       34, 35, 36, 37, 38, 39, 40, 41, 42, 43, 44, 45, 46, 47, 48, 49, 50,\n",
              "       51, 52, 53, 54, 55, 56, 57, 58, 59, 60, 61, 62])"
            ]
          },
          "metadata": {},
          "execution_count": 5
        }
      ],
      "source": [
        "x= np.arange(len(day))\n",
        "x"
      ]
    },
    {
      "cell_type": "code",
      "execution_count": 6,
      "id": "35fe938e",
      "metadata": {
        "id": "35fe938e",
        "outputId": "b579eb0a-541c-43f4-dace-b27568e9eef1",
        "colab": {
          "base_uri": "https://localhost:8080/"
        }
      },
      "outputs": [
        {
          "output_type": "execute_result",
          "data": {
            "text/plain": [
              "array([5.000e+00, 1.000e+00, 2.000e+00, 4.000e+00, 4.000e+00, 8.000e+00,\n",
              "       4.000e+00, 6.000e+00, 1.100e+01, 8.000e+00, 1.200e+01, 1.400e+01,\n",
              "       2.200e+01, 2.100e+01, 5.200e+01, 6.700e+01, 5.900e+01, 8.200e+01,\n",
              "       6.300e+01, 7.500e+01, 5.800e+01, 1.400e+02, 1.230e+02, 1.060e+02,\n",
              "       1.780e+02, 3.060e+02, 4.230e+02, 4.850e+02, 5.560e+02, 5.760e+02,\n",
              "       6.060e+02, 4.850e+02, 5.700e+02, 5.630e+02, 8.120e+02, 8.700e+02,\n",
              "       8.530e+02, 7.580e+02, 1.243e+03, 1.031e+03, 8.840e+02, 1.061e+03,\n",
              "       9.220e+02, 1.370e+03, 1.579e+03, 1.239e+03, 1.537e+03, 1.292e+03,\n",
              "       1.667e+03, 1.408e+03, 1.835e+03, 1.607e+03, 1.568e+03, 1.902e+03,\n",
              "       1.705e+03, 1.801e+03, 2.396e+03, 2.564e+03, 2.952e+03, 3.656e+03,\n",
              "       2.971e+03, 3.602e+03, 6.130e+02])"
            ]
          },
          "metadata": {},
          "execution_count": 6
        }
      ],
      "source": [
        "y= day.values\n",
        "y"
      ]
    },
    {
      "cell_type": "code",
      "execution_count": 7,
      "id": "aa0882eb",
      "metadata": {
        "id": "aa0882eb"
      },
      "outputs": [],
      "source": [
        "x = x.reshape(-1,1)"
      ]
    },
    {
      "cell_type": "code",
      "execution_count": 8,
      "id": "c33ef392",
      "metadata": {
        "id": "c33ef392"
      },
      "outputs": [],
      "source": [
        "y = y.reshape(-1,1)"
      ]
    },
    {
      "cell_type": "code",
      "execution_count": 9,
      "id": "7f71da94",
      "metadata": {
        "id": "7f71da94"
      },
      "outputs": [],
      "source": [
        "from sklearn.preprocessing import StandardScaler\n",
        "sc_x = StandardScaler()\n",
        "sc_y = StandardScaler() \n",
        "Sx = sc_x.fit_transform(x)\n",
        "Sy = sc_y.fit_transform(y)"
      ]
    },
    {
      "cell_type": "code",
      "execution_count": 10,
      "id": "7eec5bf2",
      "metadata": {
        "id": "7eec5bf2",
        "outputId": "b5ad2da0-b072-49d3-d809-619ad5bbd2aa",
        "colab": {
          "base_uri": "https://localhost:8080/"
        }
      },
      "outputs": [
        {
          "output_type": "execute_result",
          "data": {
            "text/plain": [
              "SVR()"
            ]
          },
          "metadata": {},
          "execution_count": 10
        }
      ],
      "source": [
        "from sklearn.svm import SVR\n",
        "reg = SVR(kernel='rbf')  \n",
        "reg.fit(Sx,Sy.ravel())"
      ]
    },
    {
      "cell_type": "code",
      "execution_count": 11,
      "id": "7b1f3db2",
      "metadata": {
        "id": "7b1f3db2",
        "outputId": "85fc620d-b52e-4e1b-d7a1-9d5d83e7ef08",
        "colab": {
          "base_uri": "https://localhost:8080/"
        }
      },
      "outputs": [
        {
          "output_type": "execute_result",
          "data": {
            "text/plain": [
              "85.2514813093335"
            ]
          },
          "metadata": {},
          "execution_count": 11
        }
      ],
      "source": [
        "reg.score(Sx,Sy)*100"
      ]
    },
    {
      "cell_type": "code",
      "execution_count": 12,
      "id": "e27d9fae",
      "metadata": {
        "id": "e27d9fae",
        "outputId": "39f6bb70-3b22-43c7-e159-5d8c3782219d",
        "colab": {
          "base_uri": "https://localhost:8080/",
          "height": 264
        }
      },
      "outputs": [
        {
          "output_type": "display_data",
          "data": {
            "image/png": "[encoded data removed]",
            "text/plain": [
              "<Figure size 432x288 with 1 Axes>"
            ]
          },
          "metadata": {
            "needs_background": "light"
          }
        }
      ],
      "source": [
        "plt.scatter(Sx,Sy)\n",
        "plt.plot(Sx,reg.predict(Sx),color='k',linewidth=5)\n",
        "plt.show()"
      ]
    }
  ],
  "metadata": {
    "kernelspec": {
      "display_name": "Python 3 (ipykernel)",
      "language": "python",
      "name": "python3"
    },
    "language_info": {
      "codemirror_mode": {
        "name": "ipython",
        "version": 3
      },
      "file_extension": ".py",
      "mimetype": "text/x-python",
      "name": "python",
      "nbconvert_exporter": "python",
      "pygments_lexer": "ipython3",
      "version": "3.9.5"
    },
    "colab": {
      "name": "svm.ipynb",
      "provenance": []
    }
  },
  "nbformat": 4,
  "nbformat_minor": 5
}