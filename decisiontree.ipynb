{
  "cells": [
    {
      "cell_type": "code",
      "execution_count": 1,
      "id": "8de28f07",
      "metadata": {
        "id": "8de28f07"
      },
      "outputs": [],
      "source": [
        "import numpy as np\n",
        "import pandas as pd\n",
        "import matplotlib.pyplot as plt"
      ]
    },
    {
      "cell_type": "code",
      "execution_count": 6,
      "id": "73780cf1",
      "metadata": {
        "id": "73780cf1",
        "outputId": "e611243b-80e6-4aa3-85ac-f13738e51699",
        "colab": {
          "base_uri": "https://localhost:8080/",
          "height": 502
        }
      },
      "outputs": [
        {
          "output_type": "execute_result",
          "data": {
            "text/html": [
              "\n",
              "  <div id=\"df-b9c8f8a9-fe0a-412a-b8bb-19c3ecef5257\">\n",
              "    <div class=\"colab-df-container\">\n",
              "      <div>\n",
              "<style scoped>\n",
              "    .dataframe tbody tr th:only-of-type {\n",
              "        vertical-align: middle;\n",
              "    }\n",
              "\n",
              "    .dataframe tbody tr th {\n",
              "        vertical-align: top;\n",
              "    }\n",
              "\n",
              "    .dataframe thead th {\n",
              "        text-align: right;\n",
              "    }\n",
              "</style>\n",
              "<table border=\"1\" class=\"dataframe\">\n",
              "  <thead>\n",
              "    <tr style=\"text-align: right;\">\n",
              "      <th></th>\n",
              "      <th>Num Cases</th>\n",
              "      <th>Date Announced</th>\n",
              "      <th>Age Bracket</th>\n",
              "      <th>Gender</th>\n",
              "      <th>Detected City</th>\n",
              "      <th>Detected District</th>\n",
              "      <th>Detected State</th>\n",
              "      <th>Current Status</th>\n",
              "      <th>Day</th>\n",
              "      <th>Month</th>\n",
              "      <th>Year</th>\n",
              "    </tr>\n",
              "  </thead>\n",
              "  <tbody>\n",
              "    <tr>\n",
              "      <th>0</th>\n",
              "      <td>1</td>\n",
              "      <td>30/01/2020</td>\n",
              "      <td>20</td>\n",
              "      <td>F</td>\n",
              "      <td>Thrissur</td>\n",
              "      <td>Thrissur</td>\n",
              "      <td>Kerala</td>\n",
              "      <td>Recovered</td>\n",
              "      <td>30.0</td>\n",
              "      <td>1.0</td>\n",
              "      <td>2020.0</td>\n",
              "    </tr>\n",
              "    <tr>\n",
              "      <th>1</th>\n",
              "      <td>1</td>\n",
              "      <td>02/02/2020</td>\n",
              "      <td>NaN</td>\n",
              "      <td>NaN</td>\n",
              "      <td>Alappuzha</td>\n",
              "      <td>Alappuzha</td>\n",
              "      <td>Kerala</td>\n",
              "      <td>Recovered</td>\n",
              "      <td>2.0</td>\n",
              "      <td>2.0</td>\n",
              "      <td>2020.0</td>\n",
              "    </tr>\n",
              "    <tr>\n",
              "      <th>2</th>\n",
              "      <td>1</td>\n",
              "      <td>03/02/2020</td>\n",
              "      <td>NaN</td>\n",
              "      <td>NaN</td>\n",
              "      <td>Kasaragod</td>\n",
              "      <td>Kasaragod</td>\n",
              "      <td>Kerala</td>\n",
              "      <td>Recovered</td>\n",
              "      <td>3.0</td>\n",
              "      <td>2.0</td>\n",
              "      <td>2020.0</td>\n",
              "    </tr>\n",
              "    <tr>\n",
              "      <th>3</th>\n",
              "      <td>1</td>\n",
              "      <td>02/03/2020</td>\n",
              "      <td>45</td>\n",
              "      <td>M</td>\n",
              "      <td>East Delhi (Mayur Vihar)</td>\n",
              "      <td>East Delhi</td>\n",
              "      <td>Delhi</td>\n",
              "      <td>Recovered</td>\n",
              "      <td>2.0</td>\n",
              "      <td>3.0</td>\n",
              "      <td>2020.0</td>\n",
              "    </tr>\n",
              "    <tr>\n",
              "      <th>4</th>\n",
              "      <td>1</td>\n",
              "      <td>02/03/2020</td>\n",
              "      <td>24</td>\n",
              "      <td>M</td>\n",
              "      <td>Hyderabad</td>\n",
              "      <td>Hyderabad</td>\n",
              "      <td>Telangana</td>\n",
              "      <td>Recovered</td>\n",
              "      <td>2.0</td>\n",
              "      <td>3.0</td>\n",
              "      <td>2020.0</td>\n",
              "    </tr>\n",
              "    <tr>\n",
              "      <th>...</th>\n",
              "      <td>...</td>\n",
              "      <td>...</td>\n",
              "      <td>...</td>\n",
              "      <td>...</td>\n",
              "      <td>...</td>\n",
              "      <td>...</td>\n",
              "      <td>...</td>\n",
              "      <td>...</td>\n",
              "      <td>...</td>\n",
              "      <td>...</td>\n",
              "      <td>...</td>\n",
              "    </tr>\n",
              "    <tr>\n",
              "      <th>17670</th>\n",
              "      <td>1</td>\n",
              "      <td>20/04/2020</td>\n",
              "      <td>NaN</td>\n",
              "      <td>NaN</td>\n",
              "      <td>NaN</td>\n",
              "      <td>Mumbai</td>\n",
              "      <td>Maharashtra</td>\n",
              "      <td>Hospitalized</td>\n",
              "      <td>20.0</td>\n",
              "      <td>4.0</td>\n",
              "      <td>2020.0</td>\n",
              "    </tr>\n",
              "    <tr>\n",
              "      <th>17671</th>\n",
              "      <td>1</td>\n",
              "      <td>20/04/2020</td>\n",
              "      <td>NaN</td>\n",
              "      <td>NaN</td>\n",
              "      <td>NaN</td>\n",
              "      <td>Mumbai</td>\n",
              "      <td>Maharashtra</td>\n",
              "      <td>Hospitalized</td>\n",
              "      <td>20.0</td>\n",
              "      <td>4.0</td>\n",
              "      <td>2020.0</td>\n",
              "    </tr>\n",
              "    <tr>\n",
              "      <th>17672</th>\n",
              "      <td>1</td>\n",
              "      <td>20/04/2020</td>\n",
              "      <td>NaN</td>\n",
              "      <td>NaN</td>\n",
              "      <td>NaN</td>\n",
              "      <td>Mumbai</td>\n",
              "      <td>Maharashtra</td>\n",
              "      <td>Hospitalized</td>\n",
              "      <td>20.0</td>\n",
              "      <td>4.0</td>\n",
              "      <td>2020.0</td>\n",
              "    </tr>\n",
              "    <tr>\n",
              "      <th>17673</th>\n",
              "      <td>1</td>\n",
              "      <td>20/04/2020</td>\n",
              "      <td>NaN</td>\n",
              "      <td>NaN</td>\n",
              "      <td>NaN</td>\n",
              "      <td>Mumbai</td>\n",
              "      <td>Maharashtra</td>\n",
              "      <td>Hospitalized</td>\n",
              "      <td>20.0</td>\n",
              "      <td>4.0</td>\n",
              "      <td>2020.0</td>\n",
              "    </tr>\n",
              "    <tr>\n",
              "      <th>17674</th>\n",
              "      <td>1</td>\n",
              "      <td>20/04/2020</td>\n",
              "      <td>NaN</td>\n",
              "      <td>NaN</td>\n",
              "      <td>NaN</td>\n",
              "      <td>Mumbai</td>\n",
              "      <td>Maharashtr</td>\n",
              "      <td>NaN</td>\n",
              "      <td>NaN</td>\n",
              "      <td>NaN</td>\n",
              "      <td>NaN</td>\n",
              "    </tr>\n",
              "  </tbody>\n",
              "</table>\n",
              "<p>17675 rows × 11 columns</p>\n",
              "</div>\n",
              "      <button class=\"colab-df-convert\" onclick=\"convertToInteractive('df-b9c8f8a9-fe0a-412a-b8bb-19c3ecef5257')\"\n",
              "              title=\"Convert this dataframe to an interactive table.\"\n",
              "              style=\"display:none;\">\n",
              "        \n",
              "  <svg xmlns=\"http://www.w3.org/2000/svg\" height=\"24px\"viewBox=\"0 0 24 24\"\n",
              "       width=\"24px\">\n",
              "    <path d=\"M0 0h24v24H0V0z\" fill=\"none\"/>\n",
              "    <path d=\"M18.56 5.44l.94 2.06.94-2.06 2.06-.94-2.06-.94-.94-2.06-.94 2.06-2.06.94zm-11 1L8.5 8.5l.94-2.06 2.06-.94-2.06-.94L8.5 2.5l-.94 2.06-2.06.94zm10 10l.94 2.06.94-2.06 2.06-.94-2.06-.94-.94-2.06-.94 2.06-2.06.94z\"/><path d=\"M17.41 7.96l-1.37-1.37c-.4-.4-.92-.59-1.43-.59-.52 0-1.04.2-1.43.59L10.3 9.45l-7.72 7.72c-.78.78-.78 2.05 0 2.83L4 21.41c.39.39.9.59 1.41.59.51 0 1.02-.2 1.41-.59l7.78-7.78 2.81-2.81c.8-.78.8-2.07 0-2.86zM5.41 20L4 18.59l7.72-7.72 1.47 1.35L5.41 20z\"/>\n",
              "  </svg>\n",
              "      </button>\n",
              "      \n",
              "  <style>\n",
              "    .colab-df-container {\n",
              "      display:flex;\n",
              "      flex-wrap:wrap;\n",
              "      gap: 12px;\n",
              "    }\n",
              "\n",
              "    .colab-df-convert {\n",
              "      background-color: #E8F0FE;\n",
              "      border: none;\n",
              "      border-radius: 50%;\n",
              "      cursor: pointer;\n",
              "      display: none;\n",
              "      fill: #1967D2;\n",
              "      height: 32px;\n",
              "      padding: 0 0 0 0;\n",
              "      width: 32px;\n",
              "    }\n",
              "\n",
              "    .colab-df-convert:hover {\n",
              "      background-color: #E2EBFA;\n",
              "      box-shadow: 0px 1px 2px rgba(60, 64, 67, 0.3), 0px 1px 3px 1px rgba(60, 64, 67, 0.15);\n",
              "      fill: #174EA6;\n",
              "    }\n",
              "\n",
              "    [theme=dark] .colab-df-convert {\n",
              "      background-color: #3B4455;\n",
              "      fill: #D2E3FC;\n",
              "    }\n",
              "\n",
              "    [theme=dark] .colab-df-convert:hover {\n",
              "      background-color: #434B5C;\n",
              "      box-shadow: 0px 1px 3px 1px rgba(0, 0, 0, 0.15);\n",
              "      filter: drop-shadow(0px 1px 2px rgba(0, 0, 0, 0.3));\n",
              "      fill: #FFFFFF;\n",
              "    }\n",
              "  </style>\n",
              "\n",
              "      <script>\n",
              "        const buttonEl =\n",
              "          document.querySelector('#df-b9c8f8a9-fe0a-412a-b8bb-19c3ecef5257 button.colab-df-convert');\n",
              "        buttonEl.style.display =\n",
              "          google.colab.kernel.accessAllowed ? 'block' : 'none';\n",
              "\n",
              "        async function convertToInteractive(key) {\n",
              "          const element = document.querySelector('#df-b9c8f8a9-fe0a-412a-b8bb-19c3ecef5257');\n",
              "          const dataTable =\n",
              "            await google.colab.kernel.invokeFunction('convertToInteractive',\n",
              "                                                     [key], {});\n",
              "          if (!dataTable) return;\n",
              "\n",
              "          const docLinkHtml = 'Like what you see? Visit the ' +\n",
              "            '<a target=\"_blank\" href=https://colab.research.google.com/notebooks/data_table.ipynb>data table notebook</a>'\n",
              "            + ' to learn more about interactive tables.';\n",
              "          element.innerHTML = '';\n",
              "          dataTable['output_type'] = 'display_data';\n",
              "          await google.colab.output.renderOutput(dataTable, element);\n",
              "          const docLink = document.createElement('div');\n",
              "          docLink.innerHTML = docLinkHtml;\n",
              "          element.appendChild(docLink);\n",
              "        }\n",
              "      </script>\n",
              "    </div>\n",
              "  </div>\n",
              "  "
            ],
            "text/plain": [
              "       Num Cases Date Announced Age Bracket  ...   Day Month    Year\n",
              "0              1     30/01/2020          20  ...  30.0   1.0  2020.0\n",
              "1              1     02/02/2020         NaN  ...   2.0   2.0  2020.0\n",
              "2              1     03/02/2020         NaN  ...   3.0   2.0  2020.0\n",
              "3              1     02/03/2020          45  ...   2.0   3.0  2020.0\n",
              "4              1     02/03/2020          24  ...   2.0   3.0  2020.0\n",
              "...          ...            ...         ...  ...   ...   ...     ...\n",
              "17670          1     20/04/2020         NaN  ...  20.0   4.0  2020.0\n",
              "17671          1     20/04/2020         NaN  ...  20.0   4.0  2020.0\n",
              "17672          1     20/04/2020         NaN  ...  20.0   4.0  2020.0\n",
              "17673          1     20/04/2020         NaN  ...  20.0   4.0  2020.0\n",
              "17674          1     20/04/2020         NaN  ...   NaN   NaN     NaN\n",
              "\n",
              "[17675 rows x 11 columns]"
            ]
          },
          "metadata": {},
          "execution_count": 6
        }
      ],
      "source": [
        "data=pd.read_csv('covid19india.csv')\n",
        "data"
      ]
    },
    {
      "cell_type": "code",
      "execution_count": 7,
      "id": "dfb67bff",
      "metadata": {
        "id": "dfb67bff",
        "outputId": "c5d98129-b6b3-4aeb-9265-84d085902073",
        "colab": {
          "base_uri": "https://localhost:8080/"
        }
      },
      "outputs": [
        {
          "output_type": "execute_result",
          "data": {
            "text/plain": [
              "Month  Day \n",
              "3.0    4.0        5\n",
              "       5.0        1\n",
              "       7.0        2\n",
              "       9.0        4\n",
              "       10.0       4\n",
              "       11.0       8\n",
              "       12.0       4\n",
              "       13.0       6\n",
              "       14.0      11\n",
              "       15.0       8\n",
              "       16.0      12\n",
              "       17.0      14\n",
              "       18.0      22\n",
              "       19.0      21\n",
              "       20.0      52\n",
              "       21.0      67\n",
              "       22.0      59\n",
              "       23.0      82\n",
              "       24.0      63\n",
              "       25.0      75\n",
              "       26.0      58\n",
              "       27.0     140\n",
              "       28.0     123\n",
              "       29.0     106\n",
              "       30.0     178\n",
              "       31.0     306\n",
              "4.0    1.0      423\n",
              "       2.0      485\n",
              "       3.0      556\n",
              "       4.0      576\n",
              "       5.0      606\n",
              "       6.0      485\n",
              "       7.0      570\n",
              "       8.0      563\n",
              "       9.0      812\n",
              "       10.0     870\n",
              "       11.0     853\n",
              "       12.0     758\n",
              "       13.0    1243\n",
              "       14.0    1031\n",
              "       15.0     884\n",
              "       16.0    1061\n",
              "       17.0     922\n",
              "       18.0    1370\n",
              "       19.0    1579\n",
              "       20.0     310\n",
              "Name: Num Cases, dtype: int64"
            ]
          },
          "metadata": {},
          "execution_count": 7
        }
      ],
      "source": [
        "day=data[data['Current Status']=='Hospitalized'].groupby(['Month','Day'])['Num Cases'].sum()\n",
        "day"
      ]
    },
    {
      "cell_type": "code",
      "execution_count": 8,
      "id": "92b87600",
      "metadata": {
        "id": "92b87600"
      },
      "outputs": [],
      "source": [
        "x=np.arange(len(day))\n",
        "x=x.reshape(-1,1)\n",
        "y=day.values"
      ]
    },
    {
      "cell_type": "code",
      "execution_count": 9,
      "id": "14495de6",
      "metadata": {
        "scrolled": true,
        "id": "14495de6",
        "outputId": "30b45ba1-65b0-4f26-caff-4b9504ee0479",
        "colab": {
          "base_uri": "https://localhost:8080/"
        }
      },
      "outputs": [
        {
          "output_type": "execute_result",
          "data": {
            "text/plain": [
              "DecisionTreeRegressor()"
            ]
          },
          "metadata": {},
          "execution_count": 9
        }
      ],
      "source": [
        "from sklearn.tree import DecisionTreeRegressor\n",
        "reg=DecisionTreeRegressor()\n",
        "reg.fit(x,y)"
      ]
    },
    {
      "cell_type": "code",
      "execution_count": 10,
      "id": "e93e2f81",
      "metadata": {
        "id": "e93e2f81",
        "outputId": "b7f58282-01d9-404a-8061-93a3521b4f6a",
        "colab": {
          "base_uri": "https://localhost:8080/"
        }
      },
      "outputs": [
        {
          "output_type": "execute_result",
          "data": {
            "text/plain": [
              "array([5.000e+00, 1.000e+00, 2.000e+00, 4.000e+00, 4.000e+00, 8.000e+00,\n",
              "       4.000e+00, 6.000e+00, 1.100e+01, 8.000e+00, 1.200e+01, 1.400e+01,\n",
              "       2.200e+01, 2.100e+01, 5.200e+01, 6.700e+01, 5.900e+01, 8.200e+01,\n",
              "       6.300e+01, 7.500e+01, 5.800e+01, 1.400e+02, 1.230e+02, 1.060e+02,\n",
              "       1.780e+02, 3.060e+02, 4.230e+02, 4.850e+02, 5.560e+02, 5.760e+02,\n",
              "       6.060e+02, 4.850e+02, 5.700e+02, 5.630e+02, 8.120e+02, 8.700e+02,\n",
              "       8.530e+02, 7.580e+02, 1.243e+03, 1.031e+03, 8.840e+02, 1.061e+03,\n",
              "       9.220e+02, 1.370e+03, 1.579e+03, 3.100e+02])"
            ]
          },
          "metadata": {},
          "execution_count": 10
        }
      ],
      "source": [
        "Yp=reg.predict(x)\n",
        "Yp"
      ]
    },
    {
      "cell_type": "code",
      "execution_count": 11,
      "id": "df4ab10c",
      "metadata": {
        "id": "df4ab10c",
        "outputId": "0328c0e2-0c81-4987-f376-d96e3000d08d",
        "colab": {
          "base_uri": "https://localhost:8080/",
          "height": 264
        }
      },
      "outputs": [
        {
          "output_type": "display_data",
          "data": {
            "image/png": "[encoded data removed]",
            "text/plain": [
              "<Figure size 432x288 with 1 Axes>"
            ]
          },
          "metadata": {
            "needs_background": "light"
          }
        }
      ],
      "source": [
        "plt.scatter(x,y)\n",
        "plt.plot(x,Yp,color='k',linewidth=2)\n",
        "plt.show()"
      ]
    },
    {
      "cell_type": "code",
      "execution_count": 12,
      "id": "851ed4f8",
      "metadata": {
        "id": "851ed4f8",
        "outputId": "5ab5adef-5d93-4b5b-a44a-8556feb548f7",
        "colab": {
          "base_uri": "https://localhost:8080/"
        }
      },
      "outputs": [
        {
          "output_type": "execute_result",
          "data": {
            "text/plain": [
              "100.0"
            ]
          },
          "metadata": {},
          "execution_count": 12
        }
      ],
      "source": [
        "accuracy=reg.score(x,y)*100\n",
        "accuracy"
      ]
    },
    {
      "cell_type": "code",
      "execution_count": 16,
      "id": "b5a75a88",
      "metadata": {
        "id": "b5a75a88",
        "outputId": "46dfc463-6959-401a-b02c-220a52395e67",
        "colab": {
          "base_uri": "https://localhost:8080/"
        }
      },
      "outputs": [
        {
          "output_type": "execute_result",
          "data": {
            "text/plain": [
              "array([310.])"
            ]
          },
          "metadata": {},
          "execution_count": 16
        }
      ],
      "source": [
        "reg.predict([[366]])"
      ]
    }
  ],
  "metadata": {
    "kernelspec": {
      "display_name": "Python 3 (ipykernel)",
      "language": "python",
      "name": "python3"
    },
    "language_info": {
      "codemirror_mode": {
        "name": "ipython",
        "version": 3
      },
      "file_extension": ".py",
      "mimetype": "text/x-python",
      "name": "python",
      "nbconvert_exporter": "python",
      "pygments_lexer": "ipython3",
      "version": "3.9.5"
    },
    "colab": {
      "name": "decisiontree.ipynb",
      "provenance": []
    }
  },
  "nbformat": 4,
  "nbformat_minor": 5
}